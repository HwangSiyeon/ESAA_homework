{
  "nbformat": 4,
  "nbformat_minor": 0,
  "metadata": {
    "colab": {
      "provenance": [],
      "mount_file_id": "1B12LktCcPigyKh-gk5O-o2tCpRn6Cfy9",
      "authorship_tag": "ABX9TyMJqEJeY/UsO87aww163joO",
      "include_colab_link": true
    },
    "kernelspec": {
      "name": "python3",
      "display_name": "Python 3"
    },
    "language_info": {
      "name": "python"
    }
  },
  "cells": [
    {
      "cell_type": "markdown",
      "metadata": {
        "id": "view-in-github",
        "colab_type": "text"
      },
      "source": [
        "<a href=\"https://colab.research.google.com/github/HwangSiyeon/ESAA_homework/blob/main/ESAA_HW_0408_TextNormalization_MachineLearningGuide_487_512.ipynb\" target=\"_parent\"><img src=\"https://colab.research.google.com/assets/colab-badge.svg\" alt=\"Open In Colab\"/></a>"
      ]
    },
    {
      "cell_type": "markdown",
      "source": [
        "## 4. 텍스트 분류 실습 - 20 뉴스그룹 분류\n",
        "- 텍스트 분류: 특정 문서의 분류를 학습데이터를 통해 학습해 모델 생성 후 이 학습 모델을 이용해 다른 문서의 분류를 예측\n",
        "- 희소행렬 분류 처리 알고리즘 : 로지스틱 회귀, 선형서포트 벡터머신, 나이브 베이즈\n",
        "- 예측 성능 비교 시 카운트기반 벡터화, TF-IDF기반 벡터화\n",
        "- Pipeline객체를 통해 피처 벡터화 파라미터와 GridSearchCV기반 하이퍼 파라미터 튜닝 한꺼번에 수행\n",
        "\n",
        "---\n",
        "### 텍스트 정규화\n",
        "fetch_20newsgroups() : 인터넷에서 로컬 컴퓨터로 데이터 먼저 내려받은 후에 메모리로 데이터 로딩."
      ],
      "metadata": {
        "id": "ns18RK8J0iWP"
      }
    },
    {
      "cell_type": "code",
      "execution_count": 1,
      "metadata": {
        "id": "1wobSs6qy0q6",
        "colab": {
          "base_uri": "https://localhost:8080/"
        },
        "outputId": "acec28d7-13b4-4b32-a8f2-6d029f6f0d0f"
      },
      "outputs": [
        {
          "output_type": "stream",
          "name": "stdout",
          "text": [
            "dict_keys(['data', 'filenames', 'target_names', 'target', 'DESCR'])\n"
          ]
        }
      ],
      "source": [
        "from sklearn.datasets import fetch_20newsgroups\n",
        "news_data = fetch_20newsgroups(subset=\"all\", random_state=156)\n",
        "print(news_data.keys())\n",
        "# fetch_20newsgroups()는 사이킷런의 다른 데이터세트 예제와 같이 파이썬 딕셔너리와 유사한 Bunch객체 반환\n",
        "# 어떠한 key값을 갖고 있는지 반환해본다"
      ]
    },
    {
      "cell_type": "code",
      "source": [
        "# Target 값(클래스)\n",
        "import pandas as pd\n",
        "\n",
        "print('target 클래스의 값과 분포도 \\n', pd.Series(news_data.target).value_counts().sort_index())\n",
        "print('target 클래스의 이름들 \\n', news_data.target_names)"
      ],
      "metadata": {
        "id": "XiwvT9Oo2Gfq",
        "colab": {
          "base_uri": "https://localhost:8080/"
        },
        "outputId": "ac8f69c8-b03f-4025-dc4e-f06bed8322ce"
      },
      "execution_count": 2,
      "outputs": [
        {
          "output_type": "stream",
          "name": "stdout",
          "text": [
            "target 클래스의 값과 분포도 \n",
            " 0     799\n",
            "1     973\n",
            "2     985\n",
            "3     982\n",
            "4     963\n",
            "5     988\n",
            "6     975\n",
            "7     990\n",
            "8     996\n",
            "9     994\n",
            "10    999\n",
            "11    991\n",
            "12    984\n",
            "13    990\n",
            "14    987\n",
            "15    997\n",
            "16    910\n",
            "17    940\n",
            "18    775\n",
            "19    628\n",
            "Name: count, dtype: int64\n",
            "target 클래스의 이름들 \n",
            " ['alt.atheism', 'comp.graphics', 'comp.os.ms-windows.misc', 'comp.sys.ibm.pc.hardware', 'comp.sys.mac.hardware', 'comp.windows.x', 'misc.forsale', 'rec.autos', 'rec.motorcycles', 'rec.sport.baseball', 'rec.sport.hockey', 'sci.crypt', 'sci.electronics', 'sci.med', 'sci.space', 'soc.religion.christian', 'talk.politics.guns', 'talk.politics.mideast', 'talk.politics.misc', 'talk.religion.misc']\n"
          ]
        }
      ]
    },
    {
      "cell_type": "markdown",
      "source": [
        "- target클래스 값은 0~19로 20개이며 위의 결과처럼 출력된다.\n",
        "- 이제, 개별 데이터가 텍스트로 어떻게 구성되어 있는지 데이터를 1개만 추출해 값을 확인해보자"
      ],
      "metadata": {
        "id": "dWcJW5EUQz8n"
      }
    },
    {
      "cell_type": "code",
      "source": [
        "print(news_data.data[0])"
      ],
      "metadata": {
        "colab": {
          "base_uri": "https://localhost:8080/"
        },
        "id": "fKvb1blYQsgq",
        "outputId": "47ef36e6-1163-4087-a387-fb573fa78c42"
      },
      "execution_count": 3,
      "outputs": [
        {
          "output_type": "stream",
          "name": "stdout",
          "text": [
            "From: egreen@east.sun.com (Ed Green - Pixel Cruncher)\n",
            "Subject: Re: Observation re: helmets\n",
            "Organization: Sun Microsystems, RTP, NC\n",
            "Lines: 21\n",
            "Distribution: world\n",
            "Reply-To: egreen@east.sun.com\n",
            "NNTP-Posting-Host: laser.east.sun.com\n",
            "\n",
            "In article 211353@mavenry.altcit.eskimo.com, maven@mavenry.altcit.eskimo.com (Norman Hamer) writes:\n",
            "> \n",
            "> The question for the day is re: passenger helmets, if you don't know for \n",
            ">certain who's gonna ride with you (like say you meet them at a .... church \n",
            ">meeting, yeah, that's the ticket)... What are some guidelines? Should I just \n",
            ">pick up another shoei in my size to have a backup helmet (XL), or should I \n",
            ">maybe get an inexpensive one of a smaller size to accomodate my likely \n",
            ">passenger? \n",
            "\n",
            "If your primary concern is protecting the passenger in the event of a\n",
            "crash, have him or her fitted for a helmet that is their size.  If your\n",
            "primary concern is complying with stupid helmet laws, carry a real big\n",
            "spare (you can put a big or small head in a big helmet, but not in a\n",
            "small one).\n",
            "\n",
            "---\n",
            "Ed Green, former Ninjaite |I was drinking last night with a biker,\n",
            "  Ed.Green@East.Sun.COM   |and I showed him a picture of you.  I said,\n",
            "DoD #0111  (919)460-8302  |\"Go on, get to know her, you'll like her!\"\n",
            " (The Grateful Dead) -->  |It seemed like the least I could do...\n",
            "\n",
            "\n"
          ]
        }
      ]
    },
    {
      "cell_type": "markdown",
      "source": [
        "- 헤더와 푸터 정보는 뉴스그룹 분류의 Target클래스 값과 유사한 데이터를 가지고 있는 경우가 많다. 이 장에서는 텍스트 분석을 할 것이므로 헤더와 푸터를 포함시키면 그 의도를 벗어날 수 있다. 따라서 remove 파라미터로 header와 footer를 제거하도록 한다."
      ],
      "metadata": {
        "id": "i0WVpiiuR9HX"
      }
    },
    {
      "cell_type": "code",
      "source": [
        "from sklearn.datasets import fetch_20newsgroups\n",
        "\n",
        "#subset = 'train'으로 학습용 데이터만 추출, remove=('headers','footers','quotes')로 내용만 추출\n",
        "train_news = fetch_20newsgroups(subset='train', remove=('headers','footers','quotes'),random_state=156)\n",
        "\n",
        "X_train = train_news.data\n",
        "y_train = train_news.target\n",
        "\n",
        "#subset='test'으로 테스트 데이터만 추출, remove=('headers','footers','quotes')로 내용만 추출\n",
        "test_news = fetch_20newsgroups(subset='test', remove=('headers','footers','quotes'),random_state=156)\n",
        "\n",
        "X_test = test_news.data\n",
        "y_test = test_news.target\n",
        "print('학습 데이터 크기 {0}, 테스트 데이터 크기 {1}'.format(len(train_news.data), len(test_news.data)))"
      ],
      "metadata": {
        "colab": {
          "base_uri": "https://localhost:8080/"
        },
        "id": "649MiLs5PfB-",
        "outputId": "7be91251-a3fc-47e7-d728-96b0fc844b00"
      },
      "execution_count": 4,
      "outputs": [
        {
          "output_type": "stream",
          "name": "stdout",
          "text": [
            "학습 데이터 크기 11314, 테스트 데이터 크기 7532\n"
          ]
        }
      ]
    },
    {
      "cell_type": "markdown",
      "source": [
        "### 피처 벡터화 변환과 머신러닝 모델 학습/예측/평가\n",
        "- CountVectorizer로 피처 벡터화 시 주의점 : train데이터로는 .fit(), test데이터는 .transform()을 이용해 변환.(fit_transform아님!)\n",
        "- 이렇게 해야 학습 시 사용된 피처 개수와 테스트 데이터로 예측할 때 사용할 피처 개수가 달라진다.\n"
      ],
      "metadata": {
        "id": "OoHplFceSsNK"
      }
    },
    {
      "cell_type": "code",
      "source": [
        "from sklearn.feature_extraction.text import CountVectorizer\n",
        "\n",
        "# Count Vectorization으로 벡터화 변환 수행\n",
        "cnt_vect = CountVectorizer()\n",
        "cnt_vect.fit(X_train)\n",
        "\n",
        "#학습 데이터 피처 벡터화 변환\n",
        "X_train_cnt_vect = cnt_vect.transform(X_train)\n",
        "\n",
        "#학습 데이터로 fit()된 CountVectorizer를 이용해 테스트 데이터를 피처 벡터화 변환 수행\n",
        "X_test_cnt_vect = cnt_vect.transform(X_test)\n",
        "\n",
        "print('학습 데이터 텍스트의 CountVectorizer Shape:', X_train_cnt_vect.shape)"
      ],
      "metadata": {
        "colab": {
          "base_uri": "https://localhost:8080/"
        },
        "id": "B4a-Wmj1SoZx",
        "outputId": "c0b5ce26-f71d-4711-e6b7-7d7f00ba60c1"
      },
      "execution_count": 5,
      "outputs": [
        {
          "output_type": "stream",
          "name": "stdout",
          "text": [
            "학습 데이터 텍스트의 CountVectorizer Shape: (11314, 101631)\n"
          ]
        }
      ]
    },
    {
      "cell_type": "markdown",
      "source": [
        "- 이렇게 피처 벡터화된 데이터에 로지스틱 회귀를 적용해 뉴스그룹에 대한 분류를 예측한다."
      ],
      "metadata": {
        "id": "2RRhHi16T-NB"
      }
    },
    {
      "cell_type": "code",
      "source": [
        "from sklearn.linear_model import LogisticRegression\n",
        "from sklearn.metrics import accuracy_score\n",
        "\n",
        "# LogisticRegression을 이용해 학습/예측/평가 수행\n",
        "lr_clf = LogisticRegression()\n",
        "lr_clf.fit(X_train_cnt_vect, y_train)\n",
        "pred = lr_clf.predict(X_test_cnt_vect)\n",
        "print('CountVectorizerd Logistic Regression의 예측 정확도는 {0:.3f}'.format(accuracy_score(y_test,pred)))"
      ],
      "metadata": {
        "colab": {
          "base_uri": "https://localhost:8080/"
        },
        "id": "54WLU6CBT7rp",
        "outputId": "609d65b7-6770-40c6-c194-733e4ed28cad"
      },
      "execution_count": 6,
      "outputs": [
        {
          "output_type": "stream",
          "name": "stdout",
          "text": [
            "CountVectorizerd Logistic Regression의 예측 정확도는 0.606\n"
          ]
        },
        {
          "output_type": "stream",
          "name": "stderr",
          "text": [
            "/usr/local/lib/python3.10/dist-packages/sklearn/linear_model/_logistic.py:458: ConvergenceWarning: lbfgs failed to converge (status=1):\n",
            "STOP: TOTAL NO. of ITERATIONS REACHED LIMIT.\n",
            "\n",
            "Increase the number of iterations (max_iter) or scale the data as shown in:\n",
            "    https://scikit-learn.org/stable/modules/preprocessing.html\n",
            "Please also refer to the documentation for alternative solver options:\n",
            "    https://scikit-learn.org/stable/modules/linear_model.html#logistic-regression\n",
            "  n_iter_i = _check_optimize_result(\n"
          ]
        }
      ]
    },
    {
      "cell_type": "markdown",
      "source": [
        "- 지금까지 Count기반 피처 벡터화가 적용된 데이터셋에 대한 로지스틱 회귀를 수행하였다.\n",
        "- 이번에는 TF-IDF기반 피처 벡터화가 적용된 데이터셋에 대한 예측을 수행한다"
      ],
      "metadata": {
        "id": "zxeGDEJQUS2e"
      }
    },
    {
      "cell_type": "code",
      "source": [
        "from sklearn.feature_extraction.text import TfidfVectorizer\n",
        "\n",
        "#TF-IDF 벡터화를 적용해 학습 데이터 세트와 테스트 데이터 세트 변환\n",
        "tfidf_vect = TfidfVectorizer()\n",
        "tfidf_vect.fit(X_train)\n",
        "X_train_tfidf_vect = tfidf_vect.transform(X_train)\n",
        "X_test_tfidf_vect = tfidf_vect.transform(X_test)\n",
        "\n",
        "# LogisticRegression을 이용해 학습/예측/평가 수행\n",
        "lr_clf = LogisticRegression()\n",
        "lr_clf.fit(X_train_tfidf_vect, y_train)\n",
        "pred = lr_clf.predict(X_test_tfidf_vect)\n",
        "print('TF-IDF Logistic Regression의 예측 정확도 {0:.3}'.format(accuracy_score(y_test, pred)))"
      ],
      "metadata": {
        "colab": {
          "base_uri": "https://localhost:8080/"
        },
        "id": "IYhjCtx0UJ7h",
        "outputId": "ea119973-b6e1-4138-a15f-e28cf4ab3081"
      },
      "execution_count": 7,
      "outputs": [
        {
          "output_type": "stream",
          "name": "stdout",
          "text": [
            "TF-IDF Logistic Regression의 예측 정확도 0.674\n"
          ]
        }
      ]
    },
    {
      "cell_type": "markdown",
      "source": [
        "- TF-IDF기반 > Count기반\n",
        "- 일반적으로 문서 내에서 텍스트가 많고 많은 문서를 가지는 텍스트 분석에서 카운트 벡터화보다는 TF-IDF벡터화가 좋은 예측결과를 도출한다.\n",
        "---\n",
        "- 좀 더 다양한 파라미터의 TF-IDF를 수행해보자."
      ],
      "metadata": {
        "id": "_BbO65giUwod"
      }
    },
    {
      "cell_type": "code",
      "source": [
        "#stop words 필터링을 추가하고 ngram을 기본 (1,1)에서 (1,2)로 변경\n",
        "tfidf_vect = TfidfVectorizer(stop_words='english',ngram_range=(1,2),max_df=300)\n",
        "tfidf_vect.fit(X_train)\n",
        "X_train_tfidf_vect = tfidf_vect.transform(X_train)\n",
        "X_test_tfidf_vect = tfidf_vect.transform(X_test)\n",
        "\n",
        "lr_clf = LogisticRegression()\n",
        "lr_clf.fit(X_train_tfidf_vect, y_train)\n",
        "pred = lr_clf.predict(X_test_tfidf_vect)\n",
        "print('TF-IDF Vectorized Logistic Regression의 예측 정확도는 {0:.3f}'.format(accuracy_score(y_test,pred)))"
      ],
      "metadata": {
        "colab": {
          "base_uri": "https://localhost:8080/"
        },
        "id": "BZIBD2UMUstB",
        "outputId": "cd163eaf-78a4-49db-d188-43b59da23020"
      },
      "execution_count": 8,
      "outputs": [
        {
          "output_type": "stream",
          "name": "stdout",
          "text": [
            "TF-IDF Vectorized Logistic Regression의 예측 정확도는 0.692\n"
          ]
        }
      ]
    },
    {
      "cell_type": "markdown",
      "source": [
        "- 이제 GridCV를 통해 로지스틱 회귀위 하이퍼 파라미터 최적화를 수행한다."
      ],
      "metadata": {
        "id": "lAUFY5hQVUPR"
      }
    },
    {
      "cell_type": "code",
      "source": [
        "from sklearn.model_selection import GridSearchCV\n",
        "\n",
        "#최적 C 값 도출 튜닝 수행. CV는 3폴드 세트로 설정\n",
        "params = {'C':[0.01,0.1,1,5,10]}\n",
        "grid_cv_lr= GridSearchCV(lr_clf, param_grid=params, cv=3, scoring='accuracy', verbose=1)\n",
        "grid_cv_lr.fit(X_train_tfidf_vect, y_train)\n",
        "print('Logistric Regression best C parameter :', grid_cv_lr.best_params_)\n",
        "\n",
        "# 최적 C 값으로 학습된 grid_cv로 예측 및 정확도 평가\n",
        "pred = grid_cv_lr.predict(X_test_tfidf_vect)\n",
        "print('TR-IDF Vectorized Logistic Regression의 예측 정확도는 {0:.3f}'.format(accuracy_score(y_test, pred)))"
      ],
      "metadata": {
        "colab": {
          "base_uri": "https://localhost:8080/"
        },
        "id": "_XC_Vb0jVQ7c",
        "outputId": "250d074c-1bcd-487a-acc0-8901f4eb7712"
      },
      "execution_count": null,
      "outputs": [
        {
          "metadata": {
            "tags": null
          },
          "name": "stdout",
          "output_type": "stream",
          "text": [
            "Fitting 3 folds for each of 5 candidates, totalling 15 fits\n"
          ]
        }
      ]
    },
    {
      "cell_type": "markdown",
      "source": [
        "- C=10일 때 GridSearchCV가 교차 검즈 테스트 세트에서 가장 좋은 예측 성능을 나타냈다."
      ],
      "metadata": {
        "id": "fW_M50M5VmnU"
      }
    },
    {
      "cell_type": "markdown",
      "source": [
        "### 사이킷런 파이프라인 사용 및 GridSearchCV와의 결합\n",
        "- 머신러닝에서 Pipeline: 데이터의 가공, 변환 등의 전처리와 알고리즘 적용을 마치 '수도관(pipe)에서 물이 흐르듯' 한꺼번에 스트림 기반으로 처리한다는 의미. 더 직관적인 ML모델 코드를 생성 가능. 전처리와 머신러닝 학습 과정을 통일된 API기반에서 처리가능(-> 더 직관적인 ML모델코드).\n",
        "또한 대용량 데이터의 피처 벡터화 결과를 별도 데이터로 저장하지 않고 스트림 기반에서 바로 머신러닝 알고리즘의 데이터로 입력할 수 있기 때문에 수행 시간을 절약할 수 있다."
      ],
      "metadata": {
        "id": "PcMUfBPfVyoC"
      }
    },
    {
      "cell_type": "code",
      "source": [
        "from sklearn.pipeline import Pipeline\n",
        "\n",
        "#위에서 텍스트 분류 예제 코드를 Pipeline을 이용해 작성\n",
        "pipeline = Pipeline([('tfidf_vect',TfidfVectorizer(stop_words='english')),\n",
        "                     ('lr_clf',LogisticRegression(random_state=156))])"
      ],
      "metadata": {
        "id": "WdHC_u_0VccR"
      },
      "execution_count": null,
      "outputs": []
    },
    {
      "cell_type": "markdown",
      "source": [
        "- 두 모델 객체를 파이프라인으로 연결\n",
        "- TfldVectorizer의 학습데이터와 테스트 데이터에 대한 fit()과 transform()수행을 통한 피처 벡터화와 LogisticRegressor의 fit()rhk predict()를 통일하여 수행"
      ],
      "metadata": {
        "id": "ctI9hSgjWh4U"
      }
    },
    {
      "cell_type": "code",
      "source": [
        "from sklearn.pipeline import Pipeline\n",
        "\n",
        "# TfidfVectorizer 객체를 tfidf_vect로, LogisticRegression 객체를 lr_clf로 생성하는 Pipeline 생성\n",
        "pipeline = Pipeline([\n",
        "    ('tfidf_vect',TfidfVectorizer(stop_words='english',ngram_range=(1,2),max_df=300)),\n",
        "    ('lr_clf',LogisticRegression(C=10))\n",
        "])\n",
        "\n",
        "# 별도의 TfidfVectorizer 객체의 fit(), transform() 과 LogisticRegression의 fit(), predict()가 필요없음\n",
        "# pipeline의 fit()과 predict()만으로 한꺼번에 피처 벡터화와 ML 학습/예측이 가능\n",
        "pipeline.fit(X_train, y_train)\n",
        "pred = pipeline.predict(X_test)\n",
        "print('Pipeline을 통한 Logistic Regression의 예측 정확도는 {0:.3f}'.format(accuracy_score(y_test,pred)))"
      ],
      "metadata": {
        "id": "1086N6M8WdUh"
      },
      "execution_count": null,
      "outputs": []
    },
    {
      "cell_type": "markdown",
      "source": [
        "- Pipeline + GridSearchCV"
      ],
      "metadata": {
        "id": "etIk6E30XT1b"
      }
    },
    {
      "cell_type": "code",
      "source": [
        "from sklearn.pipeline import Pipeline\n",
        "\n",
        "pipeline = Pipeline([\n",
        "    ('tfidf_vect',TfidfVectorizer(stop_words='english')),\n",
        "    ('lr_clf',LogisticRegression())\n",
        "])\n",
        "\n",
        "#Pipeline에 기술된 각각의 객체 변수에 언더바(_) 2개를 연달아 붙여 GridSearchCV\n",
        "#파라미터/하이퍼 파라미터 이름과 값을 설정\n",
        "params = {'tfidf_vect__ngram_range': [(1,1),(1,2),(1,3)],\n",
        "          'tfidf_vect__max_df':[100,300,700],\n",
        "          'lr_clf__C':[1,5,10]}\n",
        "\n",
        "# GridSearchCV의 생성자에 Estimator가 아닌 Pipeline 객체 입력\n",
        "grid_cv_pipe = GridSearchCV(pipeline, param_grid=params, cv=3, scoring='accuracy',verbose=1)\n",
        "grid_cv_pipe.fit(X_train, y_train)\n",
        "print(grid_cv_pipe.best_params_, grid_cv_pipe.best_score_)\n",
        "\n",
        "pred = grid_cv_pipe.predict(X_test)\n",
        "print('Pipeline을 통한 Logistic Regression의 예측 정확도는 {0:.3f}'.format(accuracy_score(y_test, pred)))"
      ],
      "metadata": {
        "id": "yCD2w-aZXAp6"
      },
      "execution_count": null,
      "outputs": []
    },
    {
      "cell_type": "markdown",
      "source": [
        "## 감성분석\n",
        "- 감성분석 : 텍스트가 나타내는 여러 주관적인 단어와 문맥을 기반으로 감성수치를 계산. 긍정감성지수와 부정감성지수로 구성되며 이들 지수를 합산해 계산한다.\n",
        "![image.png](data:image/png;base64,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)"
      ],
      "metadata": {
        "id": "IlaPxha2XfYE"
      }
    },
    {
      "cell_type": "markdown",
      "source": [
        "### 지도학습 기반 감성 분석 실습 - IMDB 영화평"
      ],
      "metadata": {
        "id": "2qNLtLdjYGOS"
      }
    },
    {
      "cell_type": "code",
      "source": [
        "from google.colab import drive\n",
        "drive.mount('/content/drive')"
      ],
      "metadata": {
        "id": "TmnvA3fYajm6"
      },
      "execution_count": null,
      "outputs": []
    },
    {
      "cell_type": "code",
      "source": [
        "import pandas as pd\n",
        "review_df = pd.read_csv('', header=0, sep=\"\\t\", quoting=3)"
      ],
      "metadata": {
        "id": "kxnL3z-OYDr0"
      },
      "execution_count": null,
      "outputs": []
    },
    {
      "cell_type": "code",
      "source": [
        "print(review_df['review'][0])"
      ],
      "metadata": {
        "id": "VLy89cXFZ-OX"
      },
      "execution_count": null,
      "outputs": []
    },
    {
      "cell_type": "code",
      "source": [
        "import re\n",
        "\n",
        "#  <br> html 태그는 replace 함수로 공백으로 변환\n",
        "review_df['review'] = review_df['review'].str.replace('', ' ')\n",
        "\n",
        "# 파이썬의 정규 표현식 모듈인 re를 이용해 영어 문자열이 아닌 문자는 모두 공백으로 변환\n",
        "review_df['review'] = review_df['review'].apply( lambda x: re.sub(\"[^a-xA-Z]\", \" \", x))"
      ],
      "metadata": {
        "id": "dTIt7QKBahpI"
      },
      "execution_count": null,
      "outputs": []
    },
    {
      "cell_type": "code",
      "source": [
        "from sklearn.model_selection import train_test_split\n",
        "\n",
        "class_df = review_df['sentiment']\n",
        "feature_df = review_df.drop(['id','sentiment'], axis=1, inplace=False)\n",
        "\n",
        "X_train, X_test, y_train, y_test = train_test_split(feature_df, class_df, test_size=0.3, random_state=156)\n",
        "\n",
        "X_train.shape, X_test.shape"
      ],
      "metadata": {
        "id": "K3DimoEXapLC"
      },
      "execution_count": null,
      "outputs": []
    },
    {
      "cell_type": "markdown",
      "source": [
        "# 이미지 데이터 돌릴일이 있었는데 램이 부족해서 미완입니다ㅠㅠㅠㅠㅠㅠ"
      ],
      "metadata": {
        "id": "B8YmhAPlb8cP"
      }
    },
    {
      "cell_type": "code",
      "source": [],
      "metadata": {
        "id": "VOgtm76icRpF"
      },
      "execution_count": null,
      "outputs": []
    }
  ]
}