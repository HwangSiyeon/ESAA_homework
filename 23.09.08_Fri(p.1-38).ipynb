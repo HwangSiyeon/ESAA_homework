{
 "cells": [
  {
   "cell_type": "markdown",
   "id": "d58a3c67",
   "metadata": {},
   "source": [
    "# 1-3. NUMPY "
   ]
  },
  {
   "cell_type": "markdown",
   "id": "0c1ceb32",
   "metadata": {},
   "source": [
    "### 넘파이 ndarray 개요"
   ]
  },
  {
   "cell_type": "markdown",
   "id": "baf2cec4",
   "metadata": {},
   "source": [
    "넘파이의 기반 데이터 타입은 ndarray이다. ndarray는 다차원 배열을 쉬게 생성하고 다양한 연산을 수행할 수 있다. 넘파이 array함수는 파이썬의 리스트와 같은 다양한 인자를 입력바다 ndarray로 변환하는 기능을 수행한다. "
   ]
  },
  {
   "cell_type": "code",
   "execution_count": 32,
   "id": "5ef3ba09",
   "metadata": {},
   "outputs": [],
   "source": [
    "import pandas as pd\n",
    "import numpy as np # 약어로 쓰는 것이 관례\n",
    "import matplotlib.pyplot as plt\n",
    "from sklearn.model_selection import train_test_split"
   ]
  },
  {
   "cell_type": "code",
   "execution_count": 42,
   "id": "1e41c3d3",
   "metadata": {},
   "outputs": [
    {
     "name": "stdout",
     "output_type": "stream",
     "text": [
      "array1 type: <class 'numpy.ndarray'>\n",
      "array1 형태: (3,)\n",
      "array2 type: <class 'numpy.ndarray'>\n",
      "array2 형태: (2, 3)\n",
      "array3 type: <class 'numpy.ndarray'>\n",
      "array3 형태: (1, 3)\n",
      "1\n",
      "array1:1차원,\n",
      "array2:2차원\n",
      "array3: 2차원\n"
     ]
    }
   ],
   "source": [
    "array1=np.array([1,2,3]) #[]를 1개 써서 1차원\n",
    "print('array1 type:',type(array1))\n",
    "print('array1 형태:',array1.shape)\n",
    "\n",
    "array2=np.array([[1,2,3],\n",
    "                [2,3,4]]) \n",
    "print('array2 type:',type(array2))\n",
    "print('array2 형태:',array2.shape)\n",
    "\n",
    "array3=np.array([[1,2,3]]) # []를 2개 써서 2차원 => low와 column 존재\n",
    "print('array3 type:',type(array3))\n",
    "print('array3 형태:',array3.shape)\n",
    "\n",
    "\n",
    "print(array1.ndim)\n",
    "print('array1:{:0}차원,\\narray2:{:1}차원\\narray3:{:2}차원'.format(array1.ndim,array2.ndim,array3.ndim))"
   ]
  },
  {
   "cell_type": "markdown",
   "id": "c26bb6e5",
   "metadata": {},
   "source": [
    "#### cf) 위의 마지막 코드에서 {},format()을 쓸 때 {} 안에 콜론(:)의 의미\n",
    "콜론 앞에 있는 숫자는 format에서 넣을 인자의 순서를 나타내는 것이다. 공란으로 두면 알아서 순서대로 배열됩니다.\n",
    "콜론 뒤에있는 0,1,2는 자릿수를 나타내는 것입니다. array3의 경우 {:2}이므로 숫자가 2자리 수를 쓸 때처럼 배열되어 띄어쓰기가 된 상태가 됩니다\n",
    "출처: https://blockdmask.tistory.com/424"
   ]
  },
  {
   "cell_type": "markdown",
   "id": "0fb2bf58",
   "metadata": {},
   "source": [
    "### ndarray의 데이터 타입"
   ]
  },
  {
   "cell_type": "code",
   "execution_count": 33,
   "id": "c3f50796",
   "metadata": {},
   "outputs": [
    {
     "name": "stdout",
     "output_type": "stream",
     "text": [
      "<class 'list'>\n",
      "<class 'numpy.ndarray'>\n",
      "[1 2 3] int32\n",
      "['1' '2' 'test'] <U11\n",
      "[1. 2. 3.] float64\n",
      "\n"
     ]
    }
   ],
   "source": [
    "# list를 ndarray화 - np.array()\n",
    "list1=[1,2,3]\n",
    "print(type(list1))\n",
    "array1=np.array(list1) \n",
    "print(type(array1)) \n",
    "print(array1,array1.dtype)\n",
    "\n",
    "# array내의 데이터값은 모두 int32, list는 서로 다른 데이터 타입을 원소로 가질 수 있다\n",
    "# list를 ndarray화 시 데이터 크기가 더 큰 데이터 타입으로 형변환 일괄적용\n",
    "list2=[1,2,'test'] # 문자형 변수\n",
    "array2=np.array(list2)\n",
    "print(array2,array2.dtype)\n",
    "\n",
    "list3=[1,2,3.0] # float이 있는 array\n",
    "array3=np.array(list3)\n",
    "print(array3,array3.dtype)\n"
   ]
  },
  {
   "cell_type": "code",
   "execution_count": 35,
   "id": "3094a2c1",
   "metadata": {},
   "outputs": [
    {
     "name": "stdout",
     "output_type": "stream",
     "text": [
      "[1. 2. 3.] float64\n",
      "[1 2 3] int32\n",
      "[1 2 3] int32\n"
     ]
    }
   ],
   "source": [
    "# ndarray.astype()\n",
    "array_int = np.array([1,2,3])\n",
    "array_float=array_int.astype('float64')#float으로 array 전체 형변환\n",
    "print(array_float,array_float.dtype)\n",
    "\n",
    "array_int1 =array_float.astype('int32')#int으로 array 전체 형변환\n",
    "print(array_int1,array_int1.dtype)\n",
    "\n",
    "array_float1 =np.array([1.1,2.1,3.1]) \n",
    "array_int2 =array_float1.astype('int32') #float이 int가 되며 실제값과 차이가 난다\n",
    "print(array_int2,array_int2.dtype)"
   ]
  },
  {
   "cell_type": "markdown",
   "id": "aa7c20ad",
   "metadata": {},
   "source": [
    "### ndarray를 편리하게 생성하기 - np.arange(),np.zeros(), np.ones()"
   ]
  },
  {
   "cell_type": "code",
   "execution_count": 41,
   "id": "5c3a9ea0",
   "metadata": {},
   "outputs": [
    {
     "name": "stdout",
     "output_type": "stream",
     "text": [
      "[0 1 2 3 4 5 6 7 8 9]\n",
      "int32 (10,)\n",
      "[[0 0]\n",
      " [0 0]\n",
      " [0 0]]\n",
      "int32 (3, 2)\n",
      "[[1. 1.]\n",
      " [1. 1.]\n",
      " [1. 1.]]\n",
      "float64 (3, 2)\n"
     ]
    }
   ],
   "source": [
    "# np.arange(),np.zeros(), np.ones()함수와 dtype인자\n",
    "sequence_array = np.arange(10) # 0~(n-1)까지의 int형 array를 만든다. (start, stop+1,step)\n",
    "print(sequence_array)\n",
    "print(sequence_array.dtype, sequence_array.shape)\n",
    "\n",
    "zero_array=np.zeros((3,2),dtype='int32') # np.zeros()로 0으로만 이루어진 array 생성, dtype으로 데이터 타입 정하기\n",
    "print(zero_array)\n",
    "print(zero_array.dtype,zero_array.shape)\n",
    "\n",
    "one_array=np.ones((3,2)) # np.ones()로 1으로만 이루어진 array 생성, dtype 디폴트값은 float64\n",
    "print(one_array)\n",
    "print(one_array.dtype,one_array.shape)"
   ]
  },
  {
   "cell_type": "markdown",
   "id": "e7504af9",
   "metadata": {},
   "source": [
    "### ndarray의 차원과 크기를 변경하는 ndarray.reshape()"
   ]
  },
  {
   "cell_type": "code",
   "execution_count": 47,
   "id": "14c8060f",
   "metadata": {},
   "outputs": [
    {
     "name": "stdout",
     "output_type": "stream",
     "text": [
      "arrray1:\n",
      " [0 1 2 3 4 5 6 7 8 9]\n",
      "arrray2:\n",
      " [[0 1 2 3 4]\n",
      " [5 6 7 8 9]]\n",
      "arrray3:\n",
      " [[0 1]\n",
      " [2 3]\n",
      " [4 5]\n",
      " [6 7]\n",
      " [8 9]]\n"
     ]
    }
   ],
   "source": [
    "# ndarray.reshape() 함수 - 이 때 데이터 수와 dimension이 딱 나누어 떨어져야 한다\n",
    "array1=np.arange(10)\n",
    "print('arrray1:\\n',array1)\n",
    "\n",
    "array2=array1.reshape(2,5) # reshape함수를 통해 dimension변환\n",
    "print('arrray2:\\n',array2)\n",
    "\n",
    "array3=array1.reshape(5,2) # reshape함수를 통해 dimension변환\n",
    "print('arrray3:\\n',array3)"
   ]
  },
  {
   "cell_type": "code",
   "execution_count": 50,
   "id": "a224a1bd",
   "metadata": {},
   "outputs": [
    {
     "name": "stdout",
     "output_type": "stream",
     "text": [
      "[0 1 2 3 4 5 6 7 8 9]\n",
      "array2 shape: (2, 5)\n",
      "array2 shape: (5, 2)\n"
     ]
    }
   ],
   "source": [
    "# reshape()에 인자로 -1적용 시 눈치껏 알맞은 배열로 자동으로 만든다.(나누어떨어질때만 OK)\n",
    "array1=np.arange(10)\n",
    "print(array1)\n",
    "array2=array1.reshape(-1,5)\n",
    "print('array2 shape:',array2.shape)\n",
    "array2=array1.reshape(5,-1)\n",
    "print('array2 shape:',array2.shape)"
   ]
  },
  {
   "cell_type": "code",
   "execution_count": 60,
   "id": "3dcc2f9d",
   "metadata": {},
   "outputs": [
    {
     "name": "stdout",
     "output_type": "stream",
     "text": [
      "array3d:\n",
      " [[[0, 1], [2, 3]], [[4, 5], [6, 7]]]\n",
      "array5:\n",
      " [[0], [1], [2], [3], [4], [5], [6], [7]]\n",
      "array5 shape: (8, 1)\n",
      "array6:\n",
      " [[0], [1], [2], [3], [4], [5], [6], [7]]\n",
      "array6 shape: (8, 1)\n"
     ]
    }
   ],
   "source": [
    "# ndarray.reshape(-1,1) => 3차원과 1차원의 array를 2차원의 array로 변환 가능하다\n",
    "\n",
    "array1=np.arange(8)\n",
    "array3d=array1.reshape((2,2,2))\n",
    "print('array3d:\\n',array3d.tolist())\n",
    "\n",
    "#3차원 ndarray를 2차원 ndarray로 변환\n",
    "array5=array3d.reshape(-1,1) # 1열로 쭉 배열\n",
    "print('array5:\\n',array5.tolist())\n",
    "print('array5 shape:',array5.shape)\n",
    "\n",
    "# 1차원 array를 2차원 ndarray로 변환\n",
    "array6=array1.reshape(-1,1) # 1열로 쭉 배열\n",
    "print('array6:\\n',array6.tolist())\n",
    "print('array6 shape:',array6.shape)"
   ]
  },
  {
   "cell_type": "markdown",
   "id": "427b3e49",
   "metadata": {},
   "source": [
    "### 넘파이의 ndarray의 데이터 세트 선택하기 - 인덱싱(Indexing)"
   ]
  },
  {
   "cell_type": "code",
   "execution_count": 66,
   "id": "9a648fb2",
   "metadata": {},
   "outputs": [
    {
     "name": "stdout",
     "output_type": "stream",
     "text": [
      "array1: [1 2 3 4 5 6 7 8 9]\n",
      "value: 3\n",
      "<class 'numpy.int32'>\n",
      "맨 뒤의 값: 9 맨 뒤에서 두 번째 값: 8\n",
      "array1: [9 2 3 4 5 6 7 8 0]\n"
     ]
    }
   ],
   "source": [
    "# 인덱싱으로 단일 값 추출 - 1차원에서\n",
    "array1=np.arange(start=1,stop=10) # 1부터 9까지의 1차원 ndarray생성\n",
    "print('array1:',array1)\n",
    "# index는 0부터 시작하므로 array1[2]는 3번째 위치의 데이터값을 의미\n",
    "value = array1[2]\n",
    "print('value:', value)\n",
    "print(type(value))\n",
    "# index는 음수인 경우 -1부터 시작(맨 마지막값)\n",
    "print('맨 뒤의 값:',array1[-1],'맨 뒤에서 두 번째 값:',array1[-2])\n",
    "\n",
    "# ndarray 내의 데이터값 수정 가능\n",
    "array1[0]=9\n",
    "array1[8]=0\n",
    "print('array1:',array1)"
   ]
  },
  {
   "cell_type": "code",
   "execution_count": 35,
   "id": "922be1be",
   "metadata": {},
   "outputs": [
    {
     "name": "stdout",
     "output_type": "stream",
     "text": [
      "[[1 2 3]\n",
      " [4 5 6]\n",
      " [7 8 9]]\n",
      "(row=0, col=0) index가 가리키는 값: 1\n",
      "(row=0, col=1) index가 가리키는 값: 2\n",
      "(row=1, col=0) index가 가리키는 값: 4\n",
      "(row=2, col=2) index가 가리키는 값: 9\n"
     ]
    }
   ],
   "source": [
    "# 인덱싱으로 단일 값 추출 - 2차원에서\n",
    "array1d=np.arange(start=1,stop=10)\n",
    "array2d = array1d.reshape(3,3)\n",
    "print(array2d)\n",
    "print('(row=0, col=0) index가 가리키는 값:',array2d[0,0])\n",
    "print('(row=0, col=1) index가 가리키는 값:',array2d[0,1])\n",
    "print('(row=1, col=0) index가 가리키는 값:',array2d[1,0])\n",
    "print('(row=2, col=2) index가 가리키는 값:',array2d[2,2])"
   ]
  },
  {
   "cell_type": "code",
   "execution_count": 75,
   "id": "d0ad58b0",
   "metadata": {},
   "outputs": [
    {
     "name": "stdout",
     "output_type": "stream",
     "text": [
      "[1 2 3]\n",
      "<class 'numpy.ndarray'>\n",
      "[1 2 3]\n",
      "[4 5 6 7 8 9]\n",
      "[1 2 3 4 5 6 7 8 9]\n"
     ]
    }
   ],
   "source": [
    "# :를 이용한 슬라이싱 - 1차원에서\n",
    "array1=np.arange(start=1,stop=10)\n",
    "array3=array1[0:3]\n",
    "print(array3)\n",
    "print(type(array3))\n",
    "\n",
    "array1=np.arange(start=1,stop=10)\n",
    "array4=array1[:3] # 시작 및 종료 인덱스 생략가능\n",
    "print(array4)\n",
    "\n",
    "array5=array1[3:] # 시작 및 종료 인덱스 생략가능\n",
    "print(array5)\n",
    "\n",
    "array6=array1[:] # 전체 의미. 복사하고 싶을 때 사용\n",
    "print(array6)"
   ]
  },
  {
   "cell_type": "code",
   "execution_count": 36,
   "id": "f1a7d5cc",
   "metadata": {},
   "outputs": [
    {
     "name": "stdout",
     "output_type": "stream",
     "text": [
      "array2d:\n",
      " [[1 2 3]\n",
      " [4 5 6]\n",
      " [7 8 9]]\n",
      "array2d[0:2,0:2]\n",
      " [[1 2]\n",
      " [4 5]]\n",
      "array2d[1:3,0:3]\n",
      " [[4 5 6]\n",
      " [7 8 9]]\n",
      "array2d[1:3,:]\n",
      " [[4 5 6]\n",
      " [7 8 9]]\n",
      "array2d[:,:]\n",
      " [[1 2 3]\n",
      " [4 5 6]\n",
      " [7 8 9]]\n",
      "array2d[:2,1:]\n",
      " [[2 3]\n",
      " [5 6]]\n",
      "array2d[:2,0]\n",
      " [1 4]\n",
      "[1 2 3]\n",
      "[4 5 6]\n",
      "array2d[0] shape: (3,) array2d[1] shape: (3,)\n"
     ]
    }
   ],
   "source": [
    "# :를 이용한 슬라이싱 - 2차원에서\n",
    "array1=np.arange(start=1,stop=10)\n",
    "array2d= array1.reshape(3,3)\n",
    "print('array2d:\\n',array2d)\n",
    "\n",
    "print('array2d[0:2,0:2]\\n',array2d[0:2,0:2])\n",
    "print('array2d[1:3,0:3]\\n',array2d[1:3,0:3])\n",
    "print('array2d[1:3,:]\\n',array2d[1:3,:])\n",
    "print('array2d[:,:]\\n',array2d[:,:])\n",
    "print('array2d[:2,1:]\\n',array2d[:2,1:])\n",
    "print('array2d[:2,0]\\n',array2d[:2,0])\n",
    "\n",
    "print(array2d[0]) # 첫 행을 출력\n",
    "print(array2d[1]) # 두번째 행을 출력\n",
    "print('array2d[0] shape:', array2d[0].shape, 'array2d[1] shape:', array2d[1].shape, )"
   ]
  },
  {
   "cell_type": "code",
   "execution_count": 86,
   "id": "8da8133b",
   "metadata": {},
   "outputs": [
    {
     "name": "stdout",
     "output_type": "stream",
     "text": [
      "array2d[[0,1],2]=> [3, 6]\n",
      "array2d[[0,1],0:2]=> [[1, 2], [4, 5]]\n",
      "array2d[[0,1]]=> [[1, 2, 3], [4, 5, 6]]\n"
     ]
    }
   ],
   "source": [
    "# 팬시 인덱싱(Fancy Indexing) - 리스트나 ndarray로 인덱스 집합을 지정하면 해당 위치의 인덱스에 해당하는 ndarray를 반환하는 인덱싱 방식\n",
    "# 2차원 인덱싱 + 슬라이싱\n",
    "# cf) ndarray.tolist()로 리스트 형태로 만들 수 있다.\n",
    "array1d=np.arange(start=1,stop=10)\n",
    "array2d=array1d.reshape(3,3)\n",
    "\n",
    "array3=array2d[[0,1],2]\n",
    "print('array2d[[0,1],2]=>',array3.tolist())\n",
    "\n",
    "array4=array2d[[0,1],0:2]\n",
    "print('array2d[[0,1],0:2]=>',array4.tolist())\n",
    "\n",
    "array5=array2d[[0,1]]\n",
    "print('array2d[[0,1]]=>',array5.tolist())"
   ]
  },
  {
   "cell_type": "code",
   "execution_count": 7,
   "id": "6a629372",
   "metadata": {},
   "outputs": [
    {
     "name": "stdout",
     "output_type": "stream",
     "text": [
      "array1d>5 불린 인덱싱 결과 값: [6 7 8 9]\n",
      "[False False False False False  True  True  True  True]\n",
      "불린 인덱스로 필터링 결과: [6 7 8 9]\n",
      "일반 인덱스로 필터링 결과: [6 7 8 9]\n"
     ]
    }
   ],
   "source": [
    "# 불린 인덱싱\n",
    "array1d=np.arange(1,10)\n",
    "array3 = array1d[array1d>5] # []안에 array1d>5 boolean indexing을 적용\n",
    "print('array1d>5 불린 인덱싱 결과 값:',array3)\n",
    "\n",
    "print(array1d>5)\n",
    "boolean_indexes=np.array([False, False, False, False, False,  True,  True,  True,  True])\n",
    "array2=array1d[boolean_indexes]\n",
    "print('불린 인덱스로 필터링 결과:',array3)\n",
    "indexes=np.array([5,6,7,8])\n",
    "array4=array1d[indexes]\n",
    "print('일반 인덱스로 필터링 결과:',array4)"
   ]
  },
  {
   "cell_type": "markdown",
   "id": "b69218c9",
   "metadata": {},
   "source": [
    "### 행렬의 정렬 - np.sort(), ndarray.sort(),np.argsort()"
   ]
  },
  {
   "cell_type": "code",
   "execution_count": 17,
   "id": "f6af2d4c",
   "metadata": {},
   "outputs": [
    {
     "name": "stdout",
     "output_type": "stream",
     "text": [
      "원본 행렬: [3 1 9 5]\n",
      "np.sort() 호출 후 반환된 정렬 행렬: [1 3 5 9]\n",
      "np.sort() 호출 후 원본 행렬: [3 1 9 5]\n",
      "org_array.sort() 호출 후 반환된 정렬 행렬: None\n",
      "org_array.sort() 호출 후 원본 행렬: [1 3 5 9]\n",
      "내림차순으로 정렬: [9 5 3 1]\n"
     ]
    }
   ],
   "source": [
    "# 1차원에서 정렬 - np.sort(ndarray)와 ndarray.sort()를 통해 array 정렬\n",
    "org_array=np.array([3,1,9,5])\n",
    "print('원본 행렬:',org_array)\n",
    "# np.sort()로 정렬 => 원본 array는 변하지 않는다. 새로 지정한 array는 sort된 형태\n",
    "sort_array1=np.sort(org_array)\n",
    "print('np.sort() 호출 후 반환된 정렬 행렬:', sort_array1)\n",
    "print('np.sort() 호출 후 원본 행렬:', org_array)\n",
    "# ndarray.sort()로 정렬 => 원본 array가 정렬된다\n",
    "sort_array2=org_array.sort() # 이것은 값을 반환하는 것이 아니라 array를 변화시키키만 하는 함수이다. 따라서, None이 출력된다\n",
    "print('org_array.sort() 호출 후 반환된 정렬 행렬:', sort_array2)\n",
    "print('org_array.sort() 호출 후 원본 행렬:', org_array)\n",
    "\n",
    "# 내림차순 정렬\n",
    "sort_array1_desc=np.sort(org_array)[::-1]\n",
    "print('내림차순으로 정렬:', sort_array1_desc)"
   ]
  },
  {
   "cell_type": "code",
   "execution_count": 19,
   "id": "fe196309",
   "metadata": {},
   "outputs": [
    {
     "name": "stdout",
     "output_type": "stream",
     "text": [
      "Row 방향으로 정렬\n",
      ": [[ 7  1]\n",
      " [ 8 12]]\n",
      "Column 방향으로 정렬\n",
      ": [[ 8 12]\n",
      " [ 1  7]]\n"
     ]
    }
   ],
   "source": [
    "# 2차원에서의 정렬 - axis 축 값 설정\n",
    "array2d=np.array([[8,12],\n",
    "                 [7,1]])\n",
    "sort_array2d_axis0=np.sort(array2d,axis=0)\n",
    "print('Row 방향으로 정렬\\n:',sort_array2d_axis0)\n",
    "sort_array2d_axis1=np.sort(array2d,axis=1)\n",
    "print('Column 방향으로 정렬\\n:',sort_array2d_axis1)"
   ]
  },
  {
   "cell_type": "code",
   "execution_count": 22,
   "id": "e41d9bc8",
   "metadata": {},
   "outputs": [
    {
     "name": "stdout",
     "output_type": "stream",
     "text": [
      "<class 'numpy.ndarray'>\n",
      "행렬 정렬 시 원본 행렬의 인덱스: [1 0 3 2]\n",
      "행렬 내림차순 정렬 시 원본 행렬의 인덱스: [2 3 0 1]\n"
     ]
    }
   ],
   "source": [
    "# 정렬된 행렬의 인덱스 반환하기 - np.argsort()\n",
    "org_array = np.array([3,1,9,5])\n",
    "sort_indices=np.argsort(org_array)\n",
    "print(type(sort_indices))\n",
    "print('행렬 정렬 시 원본 행렬의 인덱스:', sort_indices)\n",
    "# 내림차순으로 정렬된 행렬의 인덱스 반환하기 - np.argsort()[::-1]\n",
    "org_array = np.array([3,1,9,5])\n",
    "sort_indices_desc=np.argsort(org_array)[::-1]\n",
    "print('행렬 내림차순 정렬 시 원본 행렬의 인덱스:', sort_indices_desc)"
   ]
  },
  {
   "cell_type": "markdown",
   "id": "22145ffe",
   "metadata": {},
   "source": [
    "argsort()는 넘파이의 데이터 추출에서 많이 사용된다. 2개의 ndarray(index 와 value)가 있고 딕셔너리처럼 이용해야 할 때, np.argsort()를 사용한다.\n",
    "- EX)name_array(=학생명)와 score_array(=성적)가 있다. 여기서 성적 낮은순으로 학생명을 나열할 때 다음과 같다"
   ]
  },
  {
   "cell_type": "code",
   "execution_count": 28,
   "id": "fea6d320",
   "metadata": {},
   "outputs": [
    {
     "name": "stdout",
     "output_type": "stream",
     "text": [
      "성적 오름차순 정렬 시 score_array의 인덱스: [0 2 4 1 3]\n",
      "성적 오름차순dmfh name_array의 이름 출력: ['John' 'Sarah' 'Samuel' 'Mike' 'Kate']\n"
     ]
    }
   ],
   "source": [
    "name_array=np.array(['John','Mike','Sarah','Kate','Samuel'])\n",
    "score_array=np.array([78,95,84,98,88])\n",
    "\n",
    "sort_indices_asc=np.argsort(score_array)\n",
    "print('성적 오름차순 정렬 시 score_array의 인덱스:', sort_indices_asc)\n",
    "print('성적 오름차순dmfh name_array의 이름 출력:', name_array[sort_indices_asc])"
   ]
  },
  {
   "cell_type": "markdown",
   "id": "91b2ce8e",
   "metadata": {},
   "source": [
    "### 선형대수 연산 - 행렬 내적과 전치 행렬 구하기"
   ]
  },
  {
   "cell_type": "code",
   "execution_count": 31,
   "id": "466c8042",
   "metadata": {},
   "outputs": [
    {
     "name": "stdout",
     "output_type": "stream",
     "text": [
      "행렬 내적 결과:\n",
      " [[ 58  64]\n",
      " [139 154]]\n",
      "A의 전치 행렬:\n",
      " [[1 3]\n",
      " [2 4]]\n"
     ]
    }
   ],
   "source": [
    "# 행렬의 내적 -np.dot()\n",
    "A= np.array([[1,2,3],\n",
    "            [4,5,6]])\n",
    "B= np.array([[7,8],\n",
    "            [9,10],\n",
    "            [11,12]])\n",
    "dot_product = np.dot(A,B)\n",
    "print('행렬 내적 결과:\\n',dot_product)\n",
    "\n",
    "# 전치 행렬 - np.transpose()\n",
    "A= np.array([[1,2],\n",
    "            [3,4]])\n",
    "transpose_mat = np.transpose(A)\n",
    "print('A의 전치 행렬:\\n',transpose_mat)"
   ]
  }
 ],
 "metadata": {
  "kernelspec": {
   "display_name": "Python 3",
   "language": "python",
   "name": "python3"
  },
  "language_info": {
   "codemirror_mode": {
    "name": "ipython",
    "version": 3
   },
   "file_extension": ".py",
   "mimetype": "text/x-python",
   "name": "python",
   "nbconvert_exporter": "python",
   "pygments_lexer": "ipython3",
   "version": "3.8.8"
  }
 },
 "nbformat": 4,
 "nbformat_minor": 5
}
